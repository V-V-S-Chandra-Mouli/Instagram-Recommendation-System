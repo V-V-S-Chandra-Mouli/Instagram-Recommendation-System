{
  "nbformat": 4,
  "nbformat_minor": 0,
  "metadata": {
    "colab": {
      "provenance": []
    },
    "kernelspec": {
      "name": "python3",
      "display_name": "Python 3"
    },
    "language_info": {
      "name": "python"
    }
  },
  "cells": [
    {
      "cell_type": "code",
      "execution_count": null,
      "metadata": {
        "id": "QC4dE8oVuo5z"
      },
      "outputs": [],
      "source": [
        "import http.client\n",
        "import json\n",
        "import pandas as pd\n",
        "import re\n",
        "\n",
        "conn = http.client.HTTPSConnection(\"instagram-scraper-stable-api.p.rapidapi.com\")\n",
        "API_HOST = \"instagram-scraper-stable-api.p.rapidapi.com\"\n",
        "API_KEY = \"ecd5fe584amshcc4f497af92494ap187424jsn4d00070a199d\""
      ]
    },
    {
      "cell_type": "code",
      "source": [
        "# API request function\n",
        "def fetch_instagram_data(endpoint, payload=None, method=\"GET\"):\n",
        "    conn = http.client.HTTPSConnection(API_HOST)\n",
        "    headers = {\n",
        "        'x-rapidapi-key': API_KEY,\n",
        "        'x-rapidapi-host': API_HOST,\n",
        "        'Content-Type': \"application/x-www-form-urlencoded\"\n",
        "    }\n",
        "\n",
        "    if method == \"GET\":\n",
        "        conn.request(\"GET\", endpoint, headers=headers)\n",
        "    else:\n",
        "        conn.request(\"POST\", endpoint, body=payload, headers=headers)\n",
        "\n",
        "    response = conn.getresponse()\n",
        "    data = response.read().decode(\"utf-8\", errors=\"ignore\")\n",
        "    conn.close()\n",
        "\n",
        "    return json.loads(data)\n",
        "\n",
        "# Function to search Instagram users\n",
        "def search_users(query):\n",
        "    endpoint = \"/search_ig.php\"\n",
        "    payload = f\"search_query={query}\"\n",
        "    data = fetch_instagram_data(endpoint, payload, method=\"POST\")\n",
        "\n",
        "    users_data = []\n",
        "    for item in data.get(\"users\", []):\n",
        "        user = item.get(\"user\", {})\n",
        "        users_data.append({\n",
        "            \"username\": user.get(\"username\"),\n",
        "            \"full_name\": user.get(\"full_name\"),\n",
        "            \"is_verified\": user.get(\"is_verified\", False),\n",
        "            \"follower_count\": user.get(\"search_social_context\", \"0\"),\n",
        "            \"profile_pic_url\": user.get(\"profile_pic_url\"),\n",
        "            \"user_id\": user.get(\"id\")\n",
        "        })\n",
        "\n",
        "    return pd.DataFrame(users_data)\n",
        "\n",
        "# Function to search Instagram hashtags\n",
        "def search_hashtags(hashtag):\n",
        "    endpoint = f\"/search_hashtag.php?hashtag={hashtag}\"\n",
        "    data = fetch_instagram_data(endpoint)\n",
        "\n",
        "    hashtags_data = []\n",
        "    for tag in data.get(\"hashtags\", []):\n",
        "        hashtags_data.append({\n",
        "            \"hashtag\": tag.get(\"name\"),\n",
        "            \"post_count\": tag.get(\"search_social_context\", \"0\"),\n",
        "            \"id\": tag.get(\"id\")\n",
        "        })\n",
        "\n",
        "    return pd.DataFrame(hashtags_data)\n",
        "\n",
        "# Function to fetch post engagement data\n",
        "def get_post_engagement(post_id):\n",
        "    likes_endpoint = f\"/get_post_likers.php?post_id={post_id}\"\n",
        "    comments_endpoint = f\"/get_post_comments.php?post_id={post_id}&sort_order=popular\"\n",
        "\n",
        "    likes_data = fetch_instagram_data(likes_endpoint)\n",
        "    comments_data = fetch_instagram_data(comments_endpoint)\n",
        "\n",
        "    return {\n",
        "        \"post_id\": post_id,\n",
        "        \"likes_count\": len(likes_data.get(\"users\", [])),\n",
        "        \"comments_count\": len(comments_data.get(\"comments\", []))\n",
        "    }\n",
        "\n",
        "# Example usage\n",
        "query = \"fortnite\"\n",
        "hashtag_query = \"gaming\"\n",
        "\n",
        "# Search users\n",
        "users_df = search_users(query)\n",
        "print(\"User Search Results:\")\n",
        "print(users_df)\n",
        "\n",
        "# Search hashtags\n",
        "hashtags_df = search_hashtags(hashtag_query)\n",
        "print(\"\\nHashtag Search Results:\")\n",
        "print(hashtags_df)\n",
        "\n",
        "# Fetch engagement for first post (if any users have posts)\n",
        "if not users_df.empty:\n",
        "    post_id_example = users_df.iloc[0][\"user_id\"]\n",
        "    engagement_data = get_post_engagement(post_id_example)\n",
        "    print(\"\\nPost Engagement Data:\")\n",
        "    print(engagement_data)"
      ],
      "metadata": {
        "colab": {
          "base_uri": "https://localhost:8080/"
        },
        "id": "FxS5BOl9u0OQ",
        "outputId": "d9939444-b0fd-4b6e-c30f-e88b054ba797"
      },
      "execution_count": null,
      "outputs": [
        {
          "output_type": "stream",
          "name": "stdout",
          "text": [
            "User Search Results:\n",
            "Empty DataFrame\n",
            "Columns: []\n",
            "Index: []\n",
            "\n",
            "Hashtag Search Results:\n",
            "Empty DataFrame\n",
            "Columns: []\n",
            "Index: []\n"
          ]
        }
      ]
    },
    {
      "cell_type": "code",
      "source": [
        "import numpy as np\n",
        "from sklearn.preprocessing import MinMaxScaler\n",
        "import re\n",
        "\n",
        "# Function to convert \"K\"/\"M\" follower counts to numbers\n",
        "def convert_follower_count(follower_str):\n",
        "    if isinstance(follower_str, str):\n",
        "        # Extract numeric part using regex\n",
        "        match = re.search(r\"(\\d+(?:\\.\\d+)?)([MK]?)\", follower_str)\n",
        "        if match:\n",
        "            num = float(match.group(1))\n",
        "            suffix = match.group(2)\n",
        "            if suffix == \"M\":\n",
        "                return num * 1e6\n",
        "            elif suffix == \"K\":\n",
        "                return num * 1e3\n",
        "            else:\n",
        "                return num  # Handle cases like \"27 followers\"\n",
        "    return float(follower_str) if follower_str else 0\n",
        "\n",
        "# Function to preprocess user data\n",
        "def preprocess_users(df):\n",
        "    if df.empty:\n",
        "        return df\n",
        "\n",
        "    df[\"follower_count\"] = df[\"follower_count\"].apply(convert_follower_count)\n",
        "    df[\"is_verified\"] = df[\"is_verified\"].astype(int)  # Convert True/False to 1/0\n",
        "\n",
        "    # Normalize numerical columns\n",
        "    scaler = MinMaxScaler()\n",
        "    df[[\"follower_count\"]] = scaler.fit_transform(df[[\"follower_count\"]])\n",
        "\n",
        "    return df\n",
        "\n",
        "def preprocess_hashtags(df):\n",
        "    if df.empty:\n",
        "        return df  # <- Change this line\n",
        "\n",
        "    df[\"post_count\"] = df[\"post_count\"].apply(lambda x: int(re.sub(r\"[^\\d]\", \"\", str(x))) if str(x).isdigit() else 0)\n",
        "\n",
        "    scaler = MinMaxScaler()\n",
        "    if not df[[\"post_count\"]].empty:  # Ensure it has valid numeric data\n",
        "        df[[\"post_count\"]] = scaler.fit_transform(df[[\"post_count\"]])\n",
        "\n",
        "    return df\n",
        "\n",
        "# Function to preprocess post engagement data\n",
        "def preprocess_engagement(df):\n",
        "    if df.empty:\n",
        "        return df\n",
        "\n",
        "    scaler = MinMaxScaler()\n",
        "    df[[\"likes_count\", \"comments_count\"]] = scaler.fit_transform(df[[\"likes_count\", \"comments_count\"]])\n",
        "\n",
        "    return df\n",
        "\n",
        "# Apply preprocessing\n",
        "users_df = preprocess_users(users_df)\n",
        "hashtags_df = preprocess_hashtags(hashtags_df)\n",
        "\n",
        "print(\"Preprocessed User Data:\")\n",
        "print(users_df.head())\n",
        "\n",
        "print(\"\\nPreprocessed Hashtag Data:\")\n",
        "print(hashtags_df.head())"
      ],
      "metadata": {
        "colab": {
          "base_uri": "https://localhost:8080/"
        },
        "id": "L7A6eZVq4ZNg",
        "outputId": "b0982734-15bd-4906-ee0f-81b5ec9996a2"
      },
      "execution_count": null,
      "outputs": [
        {
          "output_type": "stream",
          "name": "stdout",
          "text": [
            "Preprocessed User Data:\n",
            "Empty DataFrame\n",
            "Columns: []\n",
            "Index: []\n",
            "\n",
            "Preprocessed Hashtag Data:\n",
            "Empty DataFrame\n",
            "Columns: []\n",
            "Index: []\n"
          ]
        }
      ]
    },
    {
      "cell_type": "code",
      "source": [
        "import pandas as pd\n",
        "import numpy as np\n",
        "from sklearn.preprocessing import MinMaxScaler\n",
        "\n",
        "# Sample engagement data (Replace this with actual API data)\n",
        "engagement_data = pd.DataFrame({\n",
        "    \"user_id\": [\"1192899491\", \"3015537629\", \"70940743993\", \"26175663062\"],\n",
        "    \"likes_count\": [1200, 450, 2300, 3400],\n",
        "    \"comments_count\": [50, 30, 100, 120]\n",
        "})\n",
        "\n",
        "# Normalize numerical features\n",
        "scaler = MinMaxScaler()\n",
        "\n",
        "# Process User Data (Already preprocessed in Step 2)\n",
        "users_df[\"follower_count\"] = scaler.fit_transform(users_df[[\"follower_count\"]])\n",
        "\n",
        "# Process Engagement Data\n",
        "if not engagement_data.empty:\n",
        "    engagement_data[[\"likes_count\", \"comments_count\"]] = scaler.fit_transform(\n",
        "        engagement_data[[\"likes_count\", \"comments_count\"]]\n",
        "    )\n",
        "\n",
        "# Merge user data with engagement data (on user_id)\n",
        "df_combined = users_df.merge(engagement_data, on=\"user_id\", how=\"left\")\n",
        "\n",
        "# Fill missing values with 0 (for users without engagement data)\n",
        "df_combined = df_combined.fillna(0)\n",
        "\n",
        "# Display final feature matrix\n",
        "print(\"Feature Matrix for Two-Tower Model:\")\n",
        "print(df_combined.head())"
      ],
      "metadata": {
        "colab": {
          "base_uri": "https://localhost:8080/",
          "height": 365
        },
        "id": "0BS2VzRo5GM_",
        "outputId": "9e7d24af-b811-44ca-e719-a15edb886d2a"
      },
      "execution_count": null,
      "outputs": [
        {
          "output_type": "error",
          "ename": "KeyError",
          "evalue": "\"None of [Index(['follower_count'], dtype='object')] are in the [columns]\"",
          "traceback": [
            "\u001b[0;31m---------------------------------------------------------------------------\u001b[0m",
            "\u001b[0;31mKeyError\u001b[0m                                  Traceback (most recent call last)",
            "\u001b[0;32m<ipython-input-4-7a9959f241c0>\u001b[0m in \u001b[0;36m<cell line: 0>\u001b[0;34m()\u001b[0m\n\u001b[1;32m     14\u001b[0m \u001b[0;34m\u001b[0m\u001b[0m\n\u001b[1;32m     15\u001b[0m \u001b[0;31m# Process User Data (Already preprocessed in Step 2)\u001b[0m\u001b[0;34m\u001b[0m\u001b[0;34m\u001b[0m\u001b[0m\n\u001b[0;32m---> 16\u001b[0;31m \u001b[0musers_df\u001b[0m\u001b[0;34m[\u001b[0m\u001b[0;34m\"follower_count\"\u001b[0m\u001b[0;34m]\u001b[0m \u001b[0;34m=\u001b[0m \u001b[0mscaler\u001b[0m\u001b[0;34m.\u001b[0m\u001b[0mfit_transform\u001b[0m\u001b[0;34m(\u001b[0m\u001b[0musers_df\u001b[0m\u001b[0;34m[\u001b[0m\u001b[0;34m[\u001b[0m\u001b[0;34m\"follower_count\"\u001b[0m\u001b[0;34m]\u001b[0m\u001b[0;34m]\u001b[0m\u001b[0;34m)\u001b[0m\u001b[0;34m\u001b[0m\u001b[0;34m\u001b[0m\u001b[0m\n\u001b[0m\u001b[1;32m     17\u001b[0m \u001b[0;34m\u001b[0m\u001b[0m\n\u001b[1;32m     18\u001b[0m \u001b[0;31m# Process Engagement Data\u001b[0m\u001b[0;34m\u001b[0m\u001b[0;34m\u001b[0m\u001b[0m\n",
            "\u001b[0;32m/usr/local/lib/python3.11/dist-packages/pandas/core/frame.py\u001b[0m in \u001b[0;36m__getitem__\u001b[0;34m(self, key)\u001b[0m\n\u001b[1;32m   4106\u001b[0m             \u001b[0;32mif\u001b[0m \u001b[0mis_iterator\u001b[0m\u001b[0;34m(\u001b[0m\u001b[0mkey\u001b[0m\u001b[0;34m)\u001b[0m\u001b[0;34m:\u001b[0m\u001b[0;34m\u001b[0m\u001b[0;34m\u001b[0m\u001b[0m\n\u001b[1;32m   4107\u001b[0m                 \u001b[0mkey\u001b[0m \u001b[0;34m=\u001b[0m \u001b[0mlist\u001b[0m\u001b[0;34m(\u001b[0m\u001b[0mkey\u001b[0m\u001b[0;34m)\u001b[0m\u001b[0;34m\u001b[0m\u001b[0;34m\u001b[0m\u001b[0m\n\u001b[0;32m-> 4108\u001b[0;31m             \u001b[0mindexer\u001b[0m \u001b[0;34m=\u001b[0m \u001b[0mself\u001b[0m\u001b[0;34m.\u001b[0m\u001b[0mcolumns\u001b[0m\u001b[0;34m.\u001b[0m\u001b[0m_get_indexer_strict\u001b[0m\u001b[0;34m(\u001b[0m\u001b[0mkey\u001b[0m\u001b[0;34m,\u001b[0m \u001b[0;34m\"columns\"\u001b[0m\u001b[0;34m)\u001b[0m\u001b[0;34m[\u001b[0m\u001b[0;36m1\u001b[0m\u001b[0;34m]\u001b[0m\u001b[0;34m\u001b[0m\u001b[0;34m\u001b[0m\u001b[0m\n\u001b[0m\u001b[1;32m   4109\u001b[0m \u001b[0;34m\u001b[0m\u001b[0m\n\u001b[1;32m   4110\u001b[0m         \u001b[0;31m# take() does not accept boolean indexers\u001b[0m\u001b[0;34m\u001b[0m\u001b[0;34m\u001b[0m\u001b[0m\n",
            "\u001b[0;32m/usr/local/lib/python3.11/dist-packages/pandas/core/indexes/base.py\u001b[0m in \u001b[0;36m_get_indexer_strict\u001b[0;34m(self, key, axis_name)\u001b[0m\n\u001b[1;32m   6198\u001b[0m             \u001b[0mkeyarr\u001b[0m\u001b[0;34m,\u001b[0m \u001b[0mindexer\u001b[0m\u001b[0;34m,\u001b[0m \u001b[0mnew_indexer\u001b[0m \u001b[0;34m=\u001b[0m \u001b[0mself\u001b[0m\u001b[0;34m.\u001b[0m\u001b[0m_reindex_non_unique\u001b[0m\u001b[0;34m(\u001b[0m\u001b[0mkeyarr\u001b[0m\u001b[0;34m)\u001b[0m\u001b[0;34m\u001b[0m\u001b[0;34m\u001b[0m\u001b[0m\n\u001b[1;32m   6199\u001b[0m \u001b[0;34m\u001b[0m\u001b[0m\n\u001b[0;32m-> 6200\u001b[0;31m         \u001b[0mself\u001b[0m\u001b[0;34m.\u001b[0m\u001b[0m_raise_if_missing\u001b[0m\u001b[0;34m(\u001b[0m\u001b[0mkeyarr\u001b[0m\u001b[0;34m,\u001b[0m \u001b[0mindexer\u001b[0m\u001b[0;34m,\u001b[0m \u001b[0maxis_name\u001b[0m\u001b[0;34m)\u001b[0m\u001b[0;34m\u001b[0m\u001b[0;34m\u001b[0m\u001b[0m\n\u001b[0m\u001b[1;32m   6201\u001b[0m \u001b[0;34m\u001b[0m\u001b[0m\n\u001b[1;32m   6202\u001b[0m         \u001b[0mkeyarr\u001b[0m \u001b[0;34m=\u001b[0m \u001b[0mself\u001b[0m\u001b[0;34m.\u001b[0m\u001b[0mtake\u001b[0m\u001b[0;34m(\u001b[0m\u001b[0mindexer\u001b[0m\u001b[0;34m)\u001b[0m\u001b[0;34m\u001b[0m\u001b[0;34m\u001b[0m\u001b[0m\n",
            "\u001b[0;32m/usr/local/lib/python3.11/dist-packages/pandas/core/indexes/base.py\u001b[0m in \u001b[0;36m_raise_if_missing\u001b[0;34m(self, key, indexer, axis_name)\u001b[0m\n\u001b[1;32m   6247\u001b[0m         \u001b[0;32mif\u001b[0m \u001b[0mnmissing\u001b[0m\u001b[0;34m:\u001b[0m\u001b[0;34m\u001b[0m\u001b[0;34m\u001b[0m\u001b[0m\n\u001b[1;32m   6248\u001b[0m             \u001b[0;32mif\u001b[0m \u001b[0mnmissing\u001b[0m \u001b[0;34m==\u001b[0m \u001b[0mlen\u001b[0m\u001b[0;34m(\u001b[0m\u001b[0mindexer\u001b[0m\u001b[0;34m)\u001b[0m\u001b[0;34m:\u001b[0m\u001b[0;34m\u001b[0m\u001b[0;34m\u001b[0m\u001b[0m\n\u001b[0;32m-> 6249\u001b[0;31m                 \u001b[0;32mraise\u001b[0m \u001b[0mKeyError\u001b[0m\u001b[0;34m(\u001b[0m\u001b[0;34mf\"None of [{key}] are in the [{axis_name}]\"\u001b[0m\u001b[0;34m)\u001b[0m\u001b[0;34m\u001b[0m\u001b[0;34m\u001b[0m\u001b[0m\n\u001b[0m\u001b[1;32m   6250\u001b[0m \u001b[0;34m\u001b[0m\u001b[0m\n\u001b[1;32m   6251\u001b[0m             \u001b[0mnot_found\u001b[0m \u001b[0;34m=\u001b[0m \u001b[0mlist\u001b[0m\u001b[0;34m(\u001b[0m\u001b[0mensure_index\u001b[0m\u001b[0;34m(\u001b[0m\u001b[0mkey\u001b[0m\u001b[0;34m)\u001b[0m\u001b[0;34m[\u001b[0m\u001b[0mmissing_mask\u001b[0m\u001b[0;34m.\u001b[0m\u001b[0mnonzero\u001b[0m\u001b[0;34m(\u001b[0m\u001b[0;34m)\u001b[0m\u001b[0;34m[\u001b[0m\u001b[0;36m0\u001b[0m\u001b[0;34m]\u001b[0m\u001b[0;34m]\u001b[0m\u001b[0;34m.\u001b[0m\u001b[0munique\u001b[0m\u001b[0;34m(\u001b[0m\u001b[0;34m)\u001b[0m\u001b[0;34m)\u001b[0m\u001b[0;34m\u001b[0m\u001b[0;34m\u001b[0m\u001b[0m\n",
            "\u001b[0;31mKeyError\u001b[0m: \"None of [Index(['follower_count'], dtype='object')] are in the [columns]\""
          ]
        }
      ]
    },
    {
      "cell_type": "code",
      "source": [
        "import tensorflow as tf\n",
        "from tensorflow.keras.layers import Input, Dense, Concatenate\n",
        "from tensorflow.keras.models import Model\n",
        "\n",
        "# Define input shapes based on feature matrix\n",
        "user_input = Input(shape=(2,), name=\"user_features\")  # [is_verified, follower_count]\n",
        "content_input = Input(shape=(2,), name=\"content_features\")  # [likes_count, comments_count]\n",
        "\n",
        "# User Tower\n",
        "user_dense = Dense(64, activation='relu')(user_input)\n",
        "user_dense = Dense(32, activation='relu')(user_dense)\n",
        "user_embedding = Dense(16, activation='relu', name=\"user_embedding\")(user_dense)\n",
        "\n",
        "# Content Tower\n",
        "content_dense = Dense(64, activation='relu')(content_input)\n",
        "content_dense = Dense(32, activation='relu')(content_dense)\n",
        "content_embedding = Dense(16, activation='relu', name=\"content_embedding\")(content_dense)\n",
        "\n",
        "# Compute similarity (dot product)\n",
        "similarity = tf.keras.layers.Dot(axes=1, normalize=True, name=\"similarity\")([user_embedding, content_embedding])\n",
        "\n",
        "# Define Model\n",
        "model = Model(inputs=[user_input, content_input], outputs=similarity)\n",
        "model.compile(optimizer='adam', loss='mse')  # Using MSE for ranking\n",
        "\n",
        "# Summary of Model\n",
        "model.summary()"
      ],
      "metadata": {
        "colab": {
          "base_uri": "https://localhost:8080/",
          "height": 465
        },
        "id": "IqufqzJv6yGg",
        "outputId": "db702b5a-f81d-4459-d665-553ee704cf59"
      },
      "execution_count": null,
      "outputs": [
        {
          "output_type": "display_data",
          "data": {
            "text/plain": [
              "\u001b[1mModel: \"functional\"\u001b[0m\n"
            ],
            "text/html": [
              "<pre style=\"white-space:pre;overflow-x:auto;line-height:normal;font-family:Menlo,'DejaVu Sans Mono',consolas,'Courier New',monospace\"><span style=\"font-weight: bold\">Model: \"functional\"</span>\n",
              "</pre>\n"
            ]
          },
          "metadata": {}
        },
        {
          "output_type": "display_data",
          "data": {
            "text/plain": [
              "┏━━━━━━━━━━━━━━━━━━━━━━━━━━━┳━━━━━━━━━━━━━━━━━━━━━━━━┳━━━━━━━━━━━━━━━━┳━━━━━━━━━━━━━━━━━━━━━━━━┓\n",
              "┃\u001b[1m \u001b[0m\u001b[1mLayer (type)             \u001b[0m\u001b[1m \u001b[0m┃\u001b[1m \u001b[0m\u001b[1mOutput Shape          \u001b[0m\u001b[1m \u001b[0m┃\u001b[1m \u001b[0m\u001b[1m       Param #\u001b[0m\u001b[1m \u001b[0m┃\u001b[1m \u001b[0m\u001b[1mConnected to          \u001b[0m\u001b[1m \u001b[0m┃\n",
              "┡━━━━━━━━━━━━━━━━━━━━━━━━━━━╇━━━━━━━━━━━━━━━━━━━━━━━━╇━━━━━━━━━━━━━━━━╇━━━━━━━━━━━━━━━━━━━━━━━━┩\n",
              "│ user_features             │ (\u001b[38;5;45mNone\u001b[0m, \u001b[38;5;34m2\u001b[0m)              │              \u001b[38;5;34m0\u001b[0m │ -                      │\n",
              "│ (\u001b[38;5;33mInputLayer\u001b[0m)              │                        │                │                        │\n",
              "├───────────────────────────┼────────────────────────┼────────────────┼────────────────────────┤\n",
              "│ content_features          │ (\u001b[38;5;45mNone\u001b[0m, \u001b[38;5;34m2\u001b[0m)              │              \u001b[38;5;34m0\u001b[0m │ -                      │\n",
              "│ (\u001b[38;5;33mInputLayer\u001b[0m)              │                        │                │                        │\n",
              "├───────────────────────────┼────────────────────────┼────────────────┼────────────────────────┤\n",
              "│ dense (\u001b[38;5;33mDense\u001b[0m)             │ (\u001b[38;5;45mNone\u001b[0m, \u001b[38;5;34m64\u001b[0m)             │            \u001b[38;5;34m192\u001b[0m │ user_features[\u001b[38;5;34m0\u001b[0m][\u001b[38;5;34m0\u001b[0m]    │\n",
              "├───────────────────────────┼────────────────────────┼────────────────┼────────────────────────┤\n",
              "│ dense_2 (\u001b[38;5;33mDense\u001b[0m)           │ (\u001b[38;5;45mNone\u001b[0m, \u001b[38;5;34m64\u001b[0m)             │            \u001b[38;5;34m192\u001b[0m │ content_features[\u001b[38;5;34m0\u001b[0m][\u001b[38;5;34m0\u001b[0m] │\n",
              "├───────────────────────────┼────────────────────────┼────────────────┼────────────────────────┤\n",
              "│ dense_1 (\u001b[38;5;33mDense\u001b[0m)           │ (\u001b[38;5;45mNone\u001b[0m, \u001b[38;5;34m32\u001b[0m)             │          \u001b[38;5;34m2,080\u001b[0m │ dense[\u001b[38;5;34m0\u001b[0m][\u001b[38;5;34m0\u001b[0m]            │\n",
              "├───────────────────────────┼────────────────────────┼────────────────┼────────────────────────┤\n",
              "│ dense_3 (\u001b[38;5;33mDense\u001b[0m)           │ (\u001b[38;5;45mNone\u001b[0m, \u001b[38;5;34m32\u001b[0m)             │          \u001b[38;5;34m2,080\u001b[0m │ dense_2[\u001b[38;5;34m0\u001b[0m][\u001b[38;5;34m0\u001b[0m]          │\n",
              "├───────────────────────────┼────────────────────────┼────────────────┼────────────────────────┤\n",
              "│ user_embedding (\u001b[38;5;33mDense\u001b[0m)    │ (\u001b[38;5;45mNone\u001b[0m, \u001b[38;5;34m16\u001b[0m)             │            \u001b[38;5;34m528\u001b[0m │ dense_1[\u001b[38;5;34m0\u001b[0m][\u001b[38;5;34m0\u001b[0m]          │\n",
              "├───────────────────────────┼────────────────────────┼────────────────┼────────────────────────┤\n",
              "│ content_embedding (\u001b[38;5;33mDense\u001b[0m) │ (\u001b[38;5;45mNone\u001b[0m, \u001b[38;5;34m16\u001b[0m)             │            \u001b[38;5;34m528\u001b[0m │ dense_3[\u001b[38;5;34m0\u001b[0m][\u001b[38;5;34m0\u001b[0m]          │\n",
              "├───────────────────────────┼────────────────────────┼────────────────┼────────────────────────┤\n",
              "│ similarity (\u001b[38;5;33mDot\u001b[0m)          │ (\u001b[38;5;45mNone\u001b[0m, \u001b[38;5;34m1\u001b[0m)              │              \u001b[38;5;34m0\u001b[0m │ user_embedding[\u001b[38;5;34m0\u001b[0m][\u001b[38;5;34m0\u001b[0m],  │\n",
              "│                           │                        │                │ content_embedding[\u001b[38;5;34m0\u001b[0m][\u001b[38;5;34m…\u001b[0m │\n",
              "└───────────────────────────┴────────────────────────┴────────────────┴────────────────────────┘\n"
            ],
            "text/html": [
              "<pre style=\"white-space:pre;overflow-x:auto;line-height:normal;font-family:Menlo,'DejaVu Sans Mono',consolas,'Courier New',monospace\">┏━━━━━━━━━━━━━━━━━━━━━━━━━━━┳━━━━━━━━━━━━━━━━━━━━━━━━┳━━━━━━━━━━━━━━━━┳━━━━━━━━━━━━━━━━━━━━━━━━┓\n",
              "┃<span style=\"font-weight: bold\"> Layer (type)              </span>┃<span style=\"font-weight: bold\"> Output Shape           </span>┃<span style=\"font-weight: bold\">        Param # </span>┃<span style=\"font-weight: bold\"> Connected to           </span>┃\n",
              "┡━━━━━━━━━━━━━━━━━━━━━━━━━━━╇━━━━━━━━━━━━━━━━━━━━━━━━╇━━━━━━━━━━━━━━━━╇━━━━━━━━━━━━━━━━━━━━━━━━┩\n",
              "│ user_features             │ (<span style=\"color: #00d7ff; text-decoration-color: #00d7ff\">None</span>, <span style=\"color: #00af00; text-decoration-color: #00af00\">2</span>)              │              <span style=\"color: #00af00; text-decoration-color: #00af00\">0</span> │ -                      │\n",
              "│ (<span style=\"color: #0087ff; text-decoration-color: #0087ff\">InputLayer</span>)              │                        │                │                        │\n",
              "├───────────────────────────┼────────────────────────┼────────────────┼────────────────────────┤\n",
              "│ content_features          │ (<span style=\"color: #00d7ff; text-decoration-color: #00d7ff\">None</span>, <span style=\"color: #00af00; text-decoration-color: #00af00\">2</span>)              │              <span style=\"color: #00af00; text-decoration-color: #00af00\">0</span> │ -                      │\n",
              "│ (<span style=\"color: #0087ff; text-decoration-color: #0087ff\">InputLayer</span>)              │                        │                │                        │\n",
              "├───────────────────────────┼────────────────────────┼────────────────┼────────────────────────┤\n",
              "│ dense (<span style=\"color: #0087ff; text-decoration-color: #0087ff\">Dense</span>)             │ (<span style=\"color: #00d7ff; text-decoration-color: #00d7ff\">None</span>, <span style=\"color: #00af00; text-decoration-color: #00af00\">64</span>)             │            <span style=\"color: #00af00; text-decoration-color: #00af00\">192</span> │ user_features[<span style=\"color: #00af00; text-decoration-color: #00af00\">0</span>][<span style=\"color: #00af00; text-decoration-color: #00af00\">0</span>]    │\n",
              "├───────────────────────────┼────────────────────────┼────────────────┼────────────────────────┤\n",
              "│ dense_2 (<span style=\"color: #0087ff; text-decoration-color: #0087ff\">Dense</span>)           │ (<span style=\"color: #00d7ff; text-decoration-color: #00d7ff\">None</span>, <span style=\"color: #00af00; text-decoration-color: #00af00\">64</span>)             │            <span style=\"color: #00af00; text-decoration-color: #00af00\">192</span> │ content_features[<span style=\"color: #00af00; text-decoration-color: #00af00\">0</span>][<span style=\"color: #00af00; text-decoration-color: #00af00\">0</span>] │\n",
              "├───────────────────────────┼────────────────────────┼────────────────┼────────────────────────┤\n",
              "│ dense_1 (<span style=\"color: #0087ff; text-decoration-color: #0087ff\">Dense</span>)           │ (<span style=\"color: #00d7ff; text-decoration-color: #00d7ff\">None</span>, <span style=\"color: #00af00; text-decoration-color: #00af00\">32</span>)             │          <span style=\"color: #00af00; text-decoration-color: #00af00\">2,080</span> │ dense[<span style=\"color: #00af00; text-decoration-color: #00af00\">0</span>][<span style=\"color: #00af00; text-decoration-color: #00af00\">0</span>]            │\n",
              "├───────────────────────────┼────────────────────────┼────────────────┼────────────────────────┤\n",
              "│ dense_3 (<span style=\"color: #0087ff; text-decoration-color: #0087ff\">Dense</span>)           │ (<span style=\"color: #00d7ff; text-decoration-color: #00d7ff\">None</span>, <span style=\"color: #00af00; text-decoration-color: #00af00\">32</span>)             │          <span style=\"color: #00af00; text-decoration-color: #00af00\">2,080</span> │ dense_2[<span style=\"color: #00af00; text-decoration-color: #00af00\">0</span>][<span style=\"color: #00af00; text-decoration-color: #00af00\">0</span>]          │\n",
              "├───────────────────────────┼────────────────────────┼────────────────┼────────────────────────┤\n",
              "│ user_embedding (<span style=\"color: #0087ff; text-decoration-color: #0087ff\">Dense</span>)    │ (<span style=\"color: #00d7ff; text-decoration-color: #00d7ff\">None</span>, <span style=\"color: #00af00; text-decoration-color: #00af00\">16</span>)             │            <span style=\"color: #00af00; text-decoration-color: #00af00\">528</span> │ dense_1[<span style=\"color: #00af00; text-decoration-color: #00af00\">0</span>][<span style=\"color: #00af00; text-decoration-color: #00af00\">0</span>]          │\n",
              "├───────────────────────────┼────────────────────────┼────────────────┼────────────────────────┤\n",
              "│ content_embedding (<span style=\"color: #0087ff; text-decoration-color: #0087ff\">Dense</span>) │ (<span style=\"color: #00d7ff; text-decoration-color: #00d7ff\">None</span>, <span style=\"color: #00af00; text-decoration-color: #00af00\">16</span>)             │            <span style=\"color: #00af00; text-decoration-color: #00af00\">528</span> │ dense_3[<span style=\"color: #00af00; text-decoration-color: #00af00\">0</span>][<span style=\"color: #00af00; text-decoration-color: #00af00\">0</span>]          │\n",
              "├───────────────────────────┼────────────────────────┼────────────────┼────────────────────────┤\n",
              "│ similarity (<span style=\"color: #0087ff; text-decoration-color: #0087ff\">Dot</span>)          │ (<span style=\"color: #00d7ff; text-decoration-color: #00d7ff\">None</span>, <span style=\"color: #00af00; text-decoration-color: #00af00\">1</span>)              │              <span style=\"color: #00af00; text-decoration-color: #00af00\">0</span> │ user_embedding[<span style=\"color: #00af00; text-decoration-color: #00af00\">0</span>][<span style=\"color: #00af00; text-decoration-color: #00af00\">0</span>],  │\n",
              "│                           │                        │                │ content_embedding[<span style=\"color: #00af00; text-decoration-color: #00af00\">0</span>][<span style=\"color: #00af00; text-decoration-color: #00af00\">…</span> │\n",
              "└───────────────────────────┴────────────────────────┴────────────────┴────────────────────────┘\n",
              "</pre>\n"
            ]
          },
          "metadata": {}
        },
        {
          "output_type": "display_data",
          "data": {
            "text/plain": [
              "\u001b[1m Total params: \u001b[0m\u001b[38;5;34m5,600\u001b[0m (21.88 KB)\n"
            ],
            "text/html": [
              "<pre style=\"white-space:pre;overflow-x:auto;line-height:normal;font-family:Menlo,'DejaVu Sans Mono',consolas,'Courier New',monospace\"><span style=\"font-weight: bold\"> Total params: </span><span style=\"color: #00af00; text-decoration-color: #00af00\">5,600</span> (21.88 KB)\n",
              "</pre>\n"
            ]
          },
          "metadata": {}
        },
        {
          "output_type": "display_data",
          "data": {
            "text/plain": [
              "\u001b[1m Trainable params: \u001b[0m\u001b[38;5;34m5,600\u001b[0m (21.88 KB)\n"
            ],
            "text/html": [
              "<pre style=\"white-space:pre;overflow-x:auto;line-height:normal;font-family:Menlo,'DejaVu Sans Mono',consolas,'Courier New',monospace\"><span style=\"font-weight: bold\"> Trainable params: </span><span style=\"color: #00af00; text-decoration-color: #00af00\">5,600</span> (21.88 KB)\n",
              "</pre>\n"
            ]
          },
          "metadata": {}
        },
        {
          "output_type": "display_data",
          "data": {
            "text/plain": [
              "\u001b[1m Non-trainable params: \u001b[0m\u001b[38;5;34m0\u001b[0m (0.00 B)\n"
            ],
            "text/html": [
              "<pre style=\"white-space:pre;overflow-x:auto;line-height:normal;font-family:Menlo,'DejaVu Sans Mono',consolas,'Courier New',monospace\"><span style=\"font-weight: bold\"> Non-trainable params: </span><span style=\"color: #00af00; text-decoration-color: #00af00\">0</span> (0.00 B)\n",
              "</pre>\n"
            ]
          },
          "metadata": {}
        }
      ]
    },
    {
      "cell_type": "code",
      "source": [
        "import tensorflow as tf\n",
        "from sklearn.model_selection import train_test_split\n",
        "\n",
        "# Convert DataFrames to NumPy arrays\n",
        "user_features_np = users_df[[\"follower_count\", \"is_verified\"]].values\n",
        "# Get 'likes_count', 'comments_count' from df_combined created in the previous cell\n",
        "content_features_np = df_combined[[\"likes_count\", \"comments_count\"]].values\n",
        "\n",
        "labels = np.random.randint(0, 2, size=len(users_df))  # Replace with actual labels\n",
        "\n",
        "# Split into Train and Validation sets\n",
        "X_train_user, X_val_user, X_train_content, X_val_content, y_train, y_val = train_test_split(\n",
        "    user_features_np, content_features_np, labels, test_size=0.2, random_state=42\n",
        ")"
      ],
      "metadata": {
        "id": "KYD8pM7m-Txu"
      },
      "execution_count": null,
      "outputs": []
    },
    {
      "cell_type": "code",
      "source": [
        "model.compile(optimizer='adam', loss='binary_crossentropy', metrics=['accuracy'])"
      ],
      "metadata": {
        "id": "FzMxkNRgApk-"
      },
      "execution_count": null,
      "outputs": []
    },
    {
      "cell_type": "code",
      "source": [
        "# Train the model\n",
        "history = model.fit(\n",
        "    [X_train_user, X_train_content], y_train,\n",
        "    validation_data=([X_val_user, X_val_content], y_val),\n",
        "    epochs=32, batch_size=8\n",
        ")"
      ],
      "metadata": {
        "colab": {
          "base_uri": "https://localhost:8080/"
        },
        "id": "x9wh7Gu4AsXR",
        "outputId": "45740b86-7d79-4c2d-aca7-2ef26af5dd7e"
      },
      "execution_count": null,
      "outputs": [
        {
          "output_type": "stream",
          "name": "stdout",
          "text": [
            "Epoch 1/32\n",
            "\u001b[1m1/1\u001b[0m \u001b[32m━━━━━━━━━━━━━━━━━━━━\u001b[0m\u001b[37m\u001b[0m \u001b[1m3s\u001b[0m 3s/step - accuracy: 0.5000 - loss: 1.1847 - val_accuracy: 1.0000 - val_loss: 0.0770\n",
            "Epoch 2/32\n",
            "\u001b[1m1/1\u001b[0m \u001b[32m━━━━━━━━━━━━━━━━━━━━\u001b[0m\u001b[37m\u001b[0m \u001b[1m0s\u001b[0m 382ms/step - accuracy: 0.5000 - loss: 1.0235 - val_accuracy: 1.0000 - val_loss: 0.1251\n",
            "Epoch 3/32\n",
            "\u001b[1m1/1\u001b[0m \u001b[32m━━━━━━━━━━━━━━━━━━━━\u001b[0m\u001b[37m\u001b[0m \u001b[1m0s\u001b[0m 94ms/step - accuracy: 0.5000 - loss: 0.9034 - val_accuracy: 1.0000 - val_loss: 0.1817\n",
            "Epoch 4/32\n",
            "\u001b[1m1/1\u001b[0m \u001b[32m━━━━━━━━━━━━━━━━━━━━\u001b[0m\u001b[37m\u001b[0m \u001b[1m0s\u001b[0m 141ms/step - accuracy: 0.5000 - loss: 0.8133 - val_accuracy: 1.0000 - val_loss: 0.2450\n",
            "Epoch 5/32\n",
            "\u001b[1m1/1\u001b[0m \u001b[32m━━━━━━━━━━━━━━━━━━━━\u001b[0m\u001b[37m\u001b[0m \u001b[1m0s\u001b[0m 93ms/step - accuracy: 0.5000 - loss: 0.7436 - val_accuracy: 1.0000 - val_loss: 0.2979\n",
            "Epoch 6/32\n",
            "\u001b[1m1/1\u001b[0m \u001b[32m━━━━━━━━━━━━━━━━━━━━\u001b[0m\u001b[37m\u001b[0m \u001b[1m0s\u001b[0m 137ms/step - accuracy: 0.5000 - loss: 0.6982 - val_accuracy: 1.0000 - val_loss: 0.3827\n",
            "Epoch 7/32\n",
            "\u001b[1m1/1\u001b[0m \u001b[32m━━━━━━━━━━━━━━━━━━━━\u001b[0m\u001b[37m\u001b[0m \u001b[1m0s\u001b[0m 91ms/step - accuracy: 0.5000 - loss: 0.6434 - val_accuracy: 1.0000 - val_loss: 0.4510\n",
            "Epoch 8/32\n",
            "\u001b[1m1/1\u001b[0m \u001b[32m━━━━━━━━━━━━━━━━━━━━\u001b[0m\u001b[37m\u001b[0m \u001b[1m0s\u001b[0m 150ms/step - accuracy: 0.5000 - loss: 0.6073 - val_accuracy: 1.0000 - val_loss: 0.5311\n",
            "Epoch 9/32\n",
            "\u001b[1m1/1\u001b[0m \u001b[32m━━━━━━━━━━━━━━━━━━━━\u001b[0m\u001b[37m\u001b[0m \u001b[1m0s\u001b[0m 104ms/step - accuracy: 0.5000 - loss: 0.5734 - val_accuracy: 1.0000 - val_loss: 0.6145\n",
            "Epoch 10/32\n",
            "\u001b[1m1/1\u001b[0m \u001b[32m━━━━━━━━━━━━━━━━━━━━\u001b[0m\u001b[37m\u001b[0m \u001b[1m0s\u001b[0m 128ms/step - accuracy: 0.5000 - loss: 0.5442 - val_accuracy: 0.0000e+00 - val_loss: 0.6993\n",
            "Epoch 11/32\n",
            "\u001b[1m1/1\u001b[0m \u001b[32m━━━━━━━━━━━━━━━━━━━━\u001b[0m\u001b[37m\u001b[0m \u001b[1m0s\u001b[0m 139ms/step - accuracy: 0.7500 - loss: 0.5193 - val_accuracy: 0.0000e+00 - val_loss: 0.7820\n",
            "Epoch 12/32\n",
            "\u001b[1m1/1\u001b[0m \u001b[32m━━━━━━━━━━━━━━━━━━━━\u001b[0m\u001b[37m\u001b[0m \u001b[1m0s\u001b[0m 141ms/step - accuracy: 0.7500 - loss: 0.4989 - val_accuracy: 0.0000e+00 - val_loss: 0.8680\n",
            "Epoch 13/32\n",
            "\u001b[1m1/1\u001b[0m \u001b[32m━━━━━━━━━━━━━━━━━━━━\u001b[0m\u001b[37m\u001b[0m \u001b[1m0s\u001b[0m 138ms/step - accuracy: 0.7500 - loss: 0.4806 - val_accuracy: 0.0000e+00 - val_loss: 0.9598\n",
            "Epoch 14/32\n",
            "\u001b[1m1/1\u001b[0m \u001b[32m━━━━━━━━━━━━━━━━━━━━\u001b[0m\u001b[37m\u001b[0m \u001b[1m0s\u001b[0m 93ms/step - accuracy: 0.7500 - loss: 0.4636 - val_accuracy: 0.0000e+00 - val_loss: 1.0599\n",
            "Epoch 15/32\n",
            "\u001b[1m1/1\u001b[0m \u001b[32m━━━━━━━━━━━━━━━━━━━━\u001b[0m\u001b[37m\u001b[0m \u001b[1m0s\u001b[0m 138ms/step - accuracy: 0.7500 - loss: 0.4477 - val_accuracy: 0.0000e+00 - val_loss: 1.1641\n",
            "Epoch 16/32\n",
            "\u001b[1m1/1\u001b[0m \u001b[32m━━━━━━━━━━━━━━━━━━━━\u001b[0m\u001b[37m\u001b[0m \u001b[1m0s\u001b[0m 103ms/step - accuracy: 0.7500 - loss: 0.4334 - val_accuracy: 0.0000e+00 - val_loss: 1.2771\n",
            "Epoch 17/32\n",
            "\u001b[1m1/1\u001b[0m \u001b[32m━━━━━━━━━━━━━━━━━━━━\u001b[0m\u001b[37m\u001b[0m \u001b[1m0s\u001b[0m 109ms/step - accuracy: 0.7500 - loss: 0.4202 - val_accuracy: 0.0000e+00 - val_loss: 1.4011\n",
            "Epoch 18/32\n",
            "\u001b[1m1/1\u001b[0m \u001b[32m━━━━━━━━━━━━━━━━━━━━\u001b[0m\u001b[37m\u001b[0m \u001b[1m0s\u001b[0m 94ms/step - accuracy: 0.7500 - loss: 0.4079 - val_accuracy: 0.0000e+00 - val_loss: 1.5401\n",
            "Epoch 19/32\n",
            "\u001b[1m1/1\u001b[0m \u001b[32m━━━━━━━━━━━━━━━━━━━━\u001b[0m\u001b[37m\u001b[0m \u001b[1m0s\u001b[0m 139ms/step - accuracy: 0.7500 - loss: 0.3963 - val_accuracy: 0.0000e+00 - val_loss: 1.6973\n",
            "Epoch 20/32\n",
            "\u001b[1m1/1\u001b[0m \u001b[32m━━━━━━━━━━━━━━━━━━━━\u001b[0m\u001b[37m\u001b[0m \u001b[1m0s\u001b[0m 141ms/step - accuracy: 0.7500 - loss: 0.3853 - val_accuracy: 0.0000e+00 - val_loss: 1.8819\n",
            "Epoch 21/32\n",
            "\u001b[1m1/1\u001b[0m \u001b[32m━━━━━━━━━━━━━━━━━━━━\u001b[0m\u001b[37m\u001b[0m \u001b[1m0s\u001b[0m 98ms/step - accuracy: 0.7500 - loss: 0.3748 - val_accuracy: 0.0000e+00 - val_loss: 2.1057\n",
            "Epoch 22/32\n",
            "\u001b[1m1/1\u001b[0m \u001b[32m━━━━━━━━━━━━━━━━━━━━\u001b[0m\u001b[37m\u001b[0m \u001b[1m0s\u001b[0m 135ms/step - accuracy: 0.7500 - loss: 0.3645 - val_accuracy: 0.0000e+00 - val_loss: 2.3834\n",
            "Epoch 23/32\n",
            "\u001b[1m1/1\u001b[0m \u001b[32m━━━━━━━━━━━━━━━━━━━━\u001b[0m\u001b[37m\u001b[0m \u001b[1m0s\u001b[0m 141ms/step - accuracy: 0.7500 - loss: 0.3549 - val_accuracy: 0.0000e+00 - val_loss: 2.7612\n",
            "Epoch 24/32\n",
            "\u001b[1m1/1\u001b[0m \u001b[32m━━━━━━━━━━━━━━━━━━━━\u001b[0m\u001b[37m\u001b[0m \u001b[1m0s\u001b[0m 102ms/step - accuracy: 0.7500 - loss: 0.3458 - val_accuracy: 0.0000e+00 - val_loss: 3.3585\n",
            "Epoch 25/32\n",
            "\u001b[1m1/1\u001b[0m \u001b[32m━━━━━━━━━━━━━━━━━━━━\u001b[0m\u001b[37m\u001b[0m \u001b[1m0s\u001b[0m 151ms/step - accuracy: 0.7500 - loss: 0.3369 - val_accuracy: 0.0000e+00 - val_loss: 4.9687\n",
            "Epoch 26/32\n",
            "\u001b[1m1/1\u001b[0m \u001b[32m━━━━━━━━━━━━━━━━━━━━\u001b[0m\u001b[37m\u001b[0m \u001b[1m0s\u001b[0m 242ms/step - accuracy: 1.0000 - loss: 0.3283 - val_accuracy: 0.0000e+00 - val_loss: 16.1181\n",
            "Epoch 27/32\n",
            "\u001b[1m1/1\u001b[0m \u001b[32m━━━━━━━━━━━━━━━━━━━━\u001b[0m\u001b[37m\u001b[0m \u001b[1m0s\u001b[0m 139ms/step - accuracy: 1.0000 - loss: 0.3250 - val_accuracy: 0.0000e+00 - val_loss: 16.1181\n",
            "Epoch 28/32\n",
            "\u001b[1m1/1\u001b[0m \u001b[32m━━━━━━━━━━━━━━━━━━━━\u001b[0m\u001b[37m\u001b[0m \u001b[1m0s\u001b[0m 140ms/step - accuracy: 1.0000 - loss: 0.3233 - val_accuracy: 0.0000e+00 - val_loss: 16.1181\n",
            "Epoch 29/32\n",
            "\u001b[1m1/1\u001b[0m \u001b[32m━━━━━━━━━━━━━━━━━━━━\u001b[0m\u001b[37m\u001b[0m \u001b[1m0s\u001b[0m 92ms/step - accuracy: 1.0000 - loss: 0.3215 - val_accuracy: 0.0000e+00 - val_loss: 16.1181\n",
            "Epoch 30/32\n",
            "\u001b[1m1/1\u001b[0m \u001b[32m━━━━━━━━━━━━━━━━━━━━\u001b[0m\u001b[37m\u001b[0m \u001b[1m0s\u001b[0m 91ms/step - accuracy: 1.0000 - loss: 0.3202 - val_accuracy: 0.0000e+00 - val_loss: 16.1181\n",
            "Epoch 31/32\n",
            "\u001b[1m1/1\u001b[0m \u001b[32m━━━━━━━━━━━━━━━━━━━━\u001b[0m\u001b[37m\u001b[0m \u001b[1m0s\u001b[0m 92ms/step - accuracy: 1.0000 - loss: 0.3179 - val_accuracy: 0.0000e+00 - val_loss: 16.1181\n",
            "Epoch 32/32\n",
            "\u001b[1m1/1\u001b[0m \u001b[32m━━━━━━━━━━━━━━━━━━━━\u001b[0m\u001b[37m\u001b[0m \u001b[1m0s\u001b[0m 115ms/step - accuracy: 1.0000 - loss: 0.3161 - val_accuracy: 0.0000e+00 - val_loss: 16.1181\n"
          ]
        }
      ]
    },
    {
      "cell_type": "code",
      "source": [
        "# Save the model\n",
        "model.save(\"two_tower_recommendation_model.h5\")\n",
        "print(\"✅ Model training complete!\")"
      ],
      "metadata": {
        "colab": {
          "base_uri": "https://localhost:8080/"
        },
        "id": "Yc9ZpP53Av02",
        "outputId": "5e06bc91-baed-4605-88e5-48cc5655a2ce"
      },
      "execution_count": null,
      "outputs": [
        {
          "output_type": "stream",
          "name": "stderr",
          "text": [
            "WARNING:absl:You are saving your model as an HDF5 file via `model.save()` or `keras.saving.save_model(model)`. This file format is considered legacy. We recommend using instead the native Keras format, e.g. `model.save('my_model.keras')` or `keras.saving.save_model(model, 'my_model.keras')`. \n"
          ]
        },
        {
          "output_type": "stream",
          "name": "stdout",
          "text": [
            "✅ Model training complete!\n"
          ]
        }
      ]
    },
    {
      "cell_type": "code",
      "source": [
        "# Evaluate the model\n",
        "loss, accuracy = model.evaluate([user_features_np, content_features_np], labels, verbose=1)\n",
        "\n",
        "print(f\"Model Loss: {loss:.4f}\")\n",
        "print(f\"Model Accuracy: {accuracy:.4f}\")"
      ],
      "metadata": {
        "colab": {
          "base_uri": "https://localhost:8080/"
        },
        "id": "OA7v-afs-uEC",
        "outputId": "d845f5b2-c777-4ff6-fbe5-2e83bd14ecd8"
      },
      "execution_count": null,
      "outputs": [
        {
          "output_type": "stream",
          "name": "stdout",
          "text": [
            "\u001b[1m1/1\u001b[0m \u001b[32m━━━━━━━━━━━━━━━━━━━━\u001b[0m\u001b[37m\u001b[0m \u001b[1m0s\u001b[0m 65ms/step - accuracy: 0.8000 - loss: 3.4749\n",
            "Model Loss: 3.4749\n",
            "Model Accuracy: 0.8000\n"
          ]
        }
      ]
    },
    {
      "cell_type": "code",
      "source": [
        "import numpy as np\n",
        "import pandas as pd\n",
        "\n",
        "# Generate similarity scores using the trained model\n",
        "predictions = model.predict([user_features_np, content_features_np])\n",
        "\n",
        "# Add predictions to the DataFrame\n",
        "users_df[\"similarity_score\"] = predictions\n",
        "\n",
        "# Sort results by similarity score (higher is better)\n",
        "top_results = users_df.sort_values(by=\"similarity_score\", ascending=False).head(5)\n",
        "\n",
        "# Display the top 5 most relevant profiles/posts\n",
        "print(\"Top 5 Most Relevant Results:\")\n",
        "print(top_results[[\"username\", \"full_name\", \"similarity_score\"]])"
      ],
      "metadata": {
        "colab": {
          "base_uri": "https://localhost:8080/"
        },
        "id": "hAa-GWtW_yHW",
        "outputId": "39dfa336-510d-4289-c006-1bda0c34e95d"
      },
      "execution_count": null,
      "outputs": [
        {
          "output_type": "stream",
          "name": "stdout",
          "text": [
            "\u001b[1m1/1\u001b[0m \u001b[32m━━━━━━━━━━━━━━━━━━━━\u001b[0m\u001b[37m\u001b[0m \u001b[1m0s\u001b[0m 112ms/step\n",
            "Top 5 Most Relevant Results:\n",
            "           username              full_name  similarity_score\n",
            "0          fortnite               Fortnite          0.999738\n",
            "3        bestxpmaps  Best Fortnite XP Maps          0.508192\n",
            "2  fortniteskin_sus       FORTNITE SKIN 🍌🍑          0.439755\n",
            "1         forrtnite          Fortnite News          0.000000\n",
            "4         fnshopbot     Fortnite Item Shop          0.000000\n"
          ]
        }
      ]
    },
    {
      "cell_type": "code",
      "source": [],
      "metadata": {
        "id": "JhGwXyY0BktO"
      },
      "execution_count": null,
      "outputs": []
    }
  ]
}